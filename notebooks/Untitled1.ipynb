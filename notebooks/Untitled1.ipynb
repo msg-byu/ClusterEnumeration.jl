{
 "cells": [
  {
   "cell_type": "code",
   "execution_count": 1,
   "id": "94e22574-226c-4596-aa66-f797de75796d",
   "metadata": {},
   "outputs": [],
   "source": [
    "using Revise"
   ]
  },
  {
   "cell_type": "code",
   "execution_count": 2,
   "id": "0196f397-f809-4e5f-90b2-9cb36de1ef53",
   "metadata": {},
   "outputs": [
    {
     "name": "stderr",
     "output_type": "stream",
     "text": [
      "\u001b[36m\u001b[1m[ \u001b[22m\u001b[39m\u001b[36m\u001b[1mInfo: \u001b[22m\u001b[39mPrecompiling ClusterEnumeration [85edfcc1-586e-47ac-903c-ed0e8dcda8ac]\n"
     ]
    }
   ],
   "source": [
    "using ClusterEnumeration"
   ]
  },
  {
   "cell_type": "code",
   "execution_count": null,
   "id": "b31c089f-c522-4f35-805e-23216bc09e96",
   "metadata": {},
   "outputs": [],
   "source": []
  }
 ],
 "metadata": {
  "kernelspec": {
   "display_name": "Julia 1.8.0",
   "language": "julia",
   "name": "julia-1.8"
  },
  "language_info": {
   "file_extension": ".jl",
   "mimetype": "application/julia",
   "name": "julia",
   "version": "1.8.0"
  }
 },
 "nbformat": 4,
 "nbformat_minor": 5
}
