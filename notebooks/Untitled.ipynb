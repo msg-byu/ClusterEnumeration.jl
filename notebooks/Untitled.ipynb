{
 "cells": [
  {
   "cell_type": "code",
   "execution_count": 1,
   "id": "627f6c0c-84f7-4fda-b4da-54c3b4241313",
   "metadata": {},
   "outputs": [],
   "source": [
    "using Spacey"
   ]
  },
  {
   "cell_type": "code",
   "execution_count": 2,
   "id": "7cde1daf-b835-45c2-93a9-cb414b9e1dc6",
   "metadata": {},
   "outputs": [
    {
     "data": {
      "text/plain": [
       "3×3 Matrix{Float64}:\n",
       " 0.0  0.5  0.5\n",
       " 0.5  0.0  0.5\n",
       " 0.5  0.5  0.0"
      ]
     },
     "execution_count": 2,
     "metadata": {},
     "output_type": "execute_result"
    }
   ],
   "source": [
    "A = [0.0 0.5 0.5; 0.5 0.0 0.5; 0.5 0.5 0.0]"
   ]
  },
  {
   "cell_type": "code",
   "execution_count": 3,
   "id": "b5111dc0-5cf6-4539-a872-8af5e4bd3968",
   "metadata": {},
   "outputs": [
    {
     "data": {
      "text/plain": [
       "48-element Vector{Matrix{Int64}}:\n",
       " [-1 -1 -1; 0 0 1; 0 1 0]\n",
       " [-1 -1 -1; 0 1 0; 0 0 1]\n",
       " [-1 0 0; 0 -1 0; 0 0 -1]\n",
       " [-1 0 0; 0 0 -1; 0 -1 0]\n",
       " [-1 -1 -1; 0 0 1; 1 0 0]\n",
       " [-1 -1 -1; 0 1 0; 1 0 0]\n",
       " [-1 0 0; 0 -1 0; 1 1 1]\n",
       " [-1 0 0; 0 0 -1; 1 1 1]\n",
       " [-1 -1 -1; 1 0 0; 0 0 1]\n",
       " [-1 -1 -1; 1 0 0; 0 1 0]\n",
       " [-1 0 0; 1 1 1; 0 -1 0]\n",
       " [-1 0 0; 1 1 1; 0 0 -1]\n",
       " [0 -1 0; -1 0 0; 0 0 -1]\n",
       " ⋮\n",
       " [1 0 0; -1 -1 -1; 0 0 1]\n",
       " [1 0 0; -1 -1 -1; 0 1 0]\n",
       " [1 1 1; -1 0 0; 0 -1 0]\n",
       " [1 1 1; -1 0 0; 0 0 -1]\n",
       " [1 0 0; 0 0 1; -1 -1 -1]\n",
       " [1 0 0; 0 1 0; -1 -1 -1]\n",
       " [1 1 1; 0 -1 0; -1 0 0]\n",
       " [1 1 1; 0 0 -1; -1 0 0]\n",
       " [1 0 0; 0 0 1; 0 1 0]\n",
       " [1 0 0; 0 1 0; 0 0 1]\n",
       " [1 1 1; 0 -1 0; 0 0 -1]\n",
       " [1 1 1; 0 0 -1; 0 -1 0]"
      ]
     },
     "execution_count": 3,
     "metadata": {},
     "output_type": "execute_result"
    }
   ],
   "source": [
    "pointGroup_robust(eachcol(A)...)"
   ]
  },
  {
   "cell_type": "code",
   "execution_count": 5,
   "id": "60ae859a-9134-45b9-aa9e-1a6f90706cb1",
   "metadata": {},
   "outputs": [
    {
     "ename": "LoadError",
     "evalue": "MethodError: no method matching pointGroup_robust(::Matrix{Float64}, ::Float64)\n\u001b[0mClosest candidates are:\n\u001b[0m  pointGroup_robust(::Any, ::Any, \u001b[91m::Any\u001b[39m) at ~/.julia/packages/Spacey/itvl8/src/Spacey.jl:114",
     "output_type": "error",
     "traceback": [
      "MethodError: no method matching pointGroup_robust(::Matrix{Float64}, ::Float64)\n\u001b[0mClosest candidates are:\n\u001b[0m  pointGroup_robust(::Any, ::Any, \u001b[91m::Any\u001b[39m) at ~/.julia/packages/Spacey/itvl8/src/Spacey.jl:114",
      "",
      "Stacktrace:",
      " [1] top-level scope",
      "   @ In[5]:1"
     ]
    }
   ],
   "source": [
    "pointGroup_robust(A,0.05)"
   ]
  },
  {
   "cell_type": "code",
   "execution_count": null,
   "id": "771a25ee-1b9b-474f-8f03-1ac7784aac62",
   "metadata": {},
   "outputs": [],
   "source": []
  }
 ],
 "metadata": {
  "kernelspec": {
   "display_name": "Julia 1.8.0",
   "language": "julia",
   "name": "julia-1.8"
  },
  "language_info": {
   "file_extension": ".jl",
   "mimetype": "application/julia",
   "name": "julia",
   "version": "1.8.0"
  }
 },
 "nbformat": 4,
 "nbformat_minor": 5
}
